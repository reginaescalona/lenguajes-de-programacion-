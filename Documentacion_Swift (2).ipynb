{
 "cells": [
  {
   "cell_type": "markdown",
   "id": "4a0578e5-0a78-43ac-8bd8-a58a91a3ceaf",
   "metadata": {},
   "source": [
    "# Documentacion Swift (Lenguaje de programacion para IOS)\n",
    "Swift es una forma fantástica de escribir software para teléfonos, tabletas, computadoras de escritorio, servidores o cualquier otro dispositivo que ejecute código. Es un lenguaje de programación seguro y rápido que combina lo mejor del lenguaje moderno con la sabiduría de una comunidad diversa de código abierto.\n",
    "# instalacion  \n",
    "\n",
    " # -  En macOS:\n",
    "Swift viene preinstalado en macOS desde Xcode.\n",
    "Si no lo tienes, puedes instalarlo de la siguiente manera:\n",
    "\n",
    "- Instalar Xcode (recomendado)\n",
    "Abre la App Store en tu Mac.\n",
    "\n",
    "Busca \"Xcode\".\n",
    "\n",
    "Haz clic en \"Obtener\" y luego en \"Instalar\".\n",
    "\n",
    "Una vez instalado, abre Xcode y acepta los términos y condiciones.\n",
    "\n",
    "Swift estará disponible en tu terminal después de instalar Xcode.\n",
    "\n",
    "- Instalar solo Swift (sin Xcode)\n",
    "Descarga el paquete de herramientas de Swift desde swift.org.\n",
    "\n",
    "Abre el archivo .pkg descargado y sigue las instrucciones del instalador.\n",
    "\n",
    "Verifica la instalación ejecutando __swift --version en la terminal.__\n",
    "\n",
    " # - En Linux:\n",
    "Visita swift.org/download y selecciona la versión de Swift \n",
    "compatible con tu distribución de Linux.\n",
    "\n",
    "Descarga el paquete __.tar.gz.__\n",
    "\n",
    "Extrae el archivo en una carpeta de tu elección, por ejemplo:\n",
    "__tar -xzf swift-<VERSION>-<DISTRO>.tar.gz__\n",
    "\n",
    "# -  En Windows (usando WSL):\n",
    "Swift no es compatible nativamente con Windows, pero puedes usar Windows Subsystem for Linux (WSL)\n",
    "para ejecutar Swift en un entorno Linux.\n",
    "\n",
    "Abre PowerShell como administrador y ejecuta:\n",
    "\n",
    "__wsl --install__\n",
    "Reinicia tu computadora.\n",
    "\n",
    "- Instalar una distribución de Linux:\n",
    "\n",
    "Abre Microsoft Store y descarga una distribución como Ubuntu.\n",
    "\n",
    "Sigue las instrucciones para configurar la distribución.\n",
    "\n",
    "- Instalar Swift en WSL:\n",
    "\n",
    "Una vez que tengas WSL y una distribución de Linux instalada, sigue los pasos para Linux mencionados arriba.\n",
    "\n",
    "Verifica la instalación:\n",
    "\n",
    "Ejecuta:\n",
    "\n",
    "__swift --version__\n",
    "\n",
    "- La tradición sugiere que el primer programa en un nuevo lenguaje debe imprimir las palabras “¡Hola, mundo!” en la pantalla. En Swift, esto se puede hacer en una sola línea:\n",
    "\n",
    "\n"
   ]
  },
  {
   "cell_type": "code",
   "execution_count": null,
   "id": "2bf67de8-ebbd-4b49-971a-f9d5f6fac04b",
   "metadata": {},
   "outputs": [],
   "source": [
    "print(\"Hello, world!\")\n",
    "// Prints \"Hello, world!\""
   ]
  },
  {
   "cell_type": "markdown",
   "id": "8a0df5dd-f3dc-4e1d-ae9d-8bb74350243a",
   "metadata": {},
   "source": [
    "- Esta sintaxis debería resultarte familiar si conoces otro lenguaje:\n",
    "en Swift, esta línea de código es un programa completo. No necesitas \n",
    "importar una biblioteca separada para funciones como generar texto \n",
    "o manejar cadenas. \n",
    "\n",
    "# Valores simples\n",
    "Úselo __let__ para crear una constante y __var__ una variable. \n",
    "No es necesario conocer el valor de una constante en el momento de la compilación\n",
    "\n",
    "\n"
   ]
  },
  {
   "cell_type": "code",
   "execution_count": null,
   "id": "c9d2bc6c-e5b5-40a0-97e5-70a54ff8fca9",
   "metadata": {},
   "outputs": [],
   "source": [
    "var myVariable = 42\n",
    "myVariable = 50\n",
    "let myConstant = 42"
   ]
  },
  {
   "cell_type": "markdown",
   "id": "dc631dfb-c16e-4da9-b2e5-6eef2d7d31f9",
   "metadata": {},
   "source": [
    "Si el valor inicial no proporciona suficiente información (o si no hay un valor inicial), \n",
    "especifique el tipo escribiéndolo después de la variable, separado por dos puntos.\n"
   ]
  },
  {
   "cell_type": "code",
   "execution_count": null,
   "id": "8363445d-1ef7-4cbf-9845-cbf5feeed775",
   "metadata": {},
   "outputs": [],
   "source": [
    "let implicitInteger = 70\n",
    "let implicitDouble = 70.0\n",
    "let explicitDouble: Double = 70"
   ]
  },
  {
   "cell_type": "markdown",
   "id": "4f0ff9a8-b009-44f7-8ed9-2f3eac9d1385",
   "metadata": {},
   "source": [
    "# - Tipos de Datos\n",
    "Swift es un lenguaje fuertemente tipado, pero también tiene inferencia de tipos.\n",
    "\n",
    "- Tipos básicos:"
   ]
  },
  {
   "cell_type": "code",
   "execution_count": null,
   "id": "1fbf5a53-f986-4910-b624-f8319a5f4b95",
   "metadata": {},
   "outputs": [],
   "source": [
    "let entero: Int = 42\n",
    "let decimal: Double = 3.14\n",
    "let texto: String = \"Hola\"\n",
    "let booleano: Bool = true"
   ]
  },
  {
   "cell_type": "markdown",
   "id": "d734fa35-cf32-4249-aca7-700fffe82b65",
   "metadata": {},
   "source": [
    "# - Operadores\n",
    "- Aritméticos: +, -, *, /, %"
   ]
  },
  {
   "cell_type": "code",
   "execution_count": null,
   "id": "fdf82be3-a678-4c95-a847-d87f2f1d41e8",
   "metadata": {},
   "outputs": [],
   "source": [
    "let suma = 3 + 5 // 8"
   ]
  },
  {
   "cell_type": "markdown",
   "id": "180a929b-3be8-4da2-bdf2-f18b8aa56578",
   "metadata": {},
   "source": [
    "- Comparación: ==, !=, >, <, >=, <="
   ]
  },
  {
   "cell_type": "code",
   "execution_count": null,
   "id": "7828b516-f341-4554-b2c8-9c25156386bc",
   "metadata": {},
   "outputs": [],
   "source": [
    "let esMayor = 10 > 5 // true"
   ]
  },
  {
   "cell_type": "markdown",
   "id": "343049d9-316d-4718-8222-35c0df3d5dd4",
   "metadata": {},
   "source": [
    "- Lógicos: &&, ||, !"
   ]
  },
  {
   "cell_type": "code",
   "execution_count": null,
   "id": "bfea6893-6fde-46f2-90b7-56995944a050",
   "metadata": {},
   "outputs": [],
   "source": [
    "let resultado = true && false // false"
   ]
  },
  {
   "cell_type": "markdown",
   "id": "4cd70f46-376d-4774-af47-7431acdbf03d",
   "metadata": {},
   "source": [
    "# - Flujo de control\n",
    "Utilice __ify__ switchpara crear condicionales, y utilice __for-__ __in__ , __while__, y __repeat-__  __while__ \n",
    "para crear bucles.Los paréntesis alrededor de la condición o variable de bucle son opcionales.\n",
    "Las llaves alrededor del cuerpo son obligatorias.\n",
    "\n"
   ]
  },
  {
   "cell_type": "code",
   "execution_count": null,
   "id": "e59711fc-bdc4-4ef2-b0a1-a77115fc4cb0",
   "metadata": {},
   "outputs": [],
   "source": [
    "let individualScores = [75, 43, 103, 87, 12]\n",
    "var teamScore = 0\n",
    "for score in individualScores {\n",
    "    if score > 50 {\n",
    "        teamScore += 3\n",
    "    } else {\n",
    "        teamScore += 1\n",
    "    }\n",
    "}\n",
    "print(teamScore)\n",
    "// Prints \"11\""
   ]
  },
  {
   "cell_type": "markdown",
   "id": "e450e5a3-19b2-4fca-b87f-4e6a9f2a44b2",
   "metadata": {},
   "source": [
    "# - Objetos y clases\n",
    "Utilice __class__ seguido del nombre de la clase para crear una clase.\n",
    "Una declaración de propiedad en una clase se escribe de la misma manera que una declaración de constante o variable,\n",
    "excepto que se encuentra en el contexto de una clase."
   ]
  },
  {
   "cell_type": "code",
   "execution_count": null,
   "id": "922e1317-d6ad-49fa-9f35-ad5c59bd8a7a",
   "metadata": {},
   "outputs": [],
   "source": [
    "class Shape {\n",
    "    var numberOfSides = 0\n",
    "    func simpleDescription() -> String {\n",
    "        return \"A shape with \\(numberOfSides) sides.\"\n",
    "    }\n",
    "}"
   ]
  },
  {
   "cell_type": "markdown",
   "id": "09b65869-d4f4-4f39-b1c7-8ab692322c36",
   "metadata": {},
   "source": [
    "# - Enumeraciones y estructuras\n",
    "Se utiliza __enum__ para crear una enumeración. Al igual que las clases y todos los demás tipos con nombre,\n",
    "las enumeraciones pueden tener métodos asociados.\n",
    "\n",
    "\n"
   ]
  },
  {
   "cell_type": "code",
   "execution_count": null,
   "id": "15349a44-b9ec-4d2f-957b-887584d0b13b",
   "metadata": {},
   "outputs": [],
   "source": [
    "enum Rank: Int {\n",
    "    case ace = 1\n",
    "    case two, three, four, five, six, seven, eight, nine, ten\n",
    "    case jack, queen, king\n",
    "\n",
    "\n",
    "    func simpleDescription() -> String {\n",
    "        switch self {\n",
    "        case .ace:\n",
    "            return \"ace\"\n",
    "        case .jack:\n",
    "            return \"jack\"\n",
    "        case .queen:\n",
    "            return \"queen\"\n",
    "        case .king:\n",
    "            return \"king\"\n",
    "        default:\n",
    "            return String(self.rawValue)\n",
    "        }\n",
    "    }\n",
    "}\n",
    "let ace = Rank.ace\n",
    "let aceRawValue = ace.rawValue"
   ]
  },
  {
   "cell_type": "markdown",
   "id": "001fbfa1-a275-4def-9b1b-f605b5680c98",
   "metadata": {},
   "source": [
    "# Colecciones\n",
    "Arrays:\n"
   ]
  },
  {
   "cell_type": "code",
   "execution_count": null,
   "id": "1369e809-35eb-42af-98b5-90d2e2bbf6e5",
   "metadata": {},
   "outputs": [],
   "source": [
    "var numeros = [1, 2, 3]\n",
    "numeros.append(4) // [1, 2, 3, 4]"
   ]
  },
  {
   "cell_type": "markdown",
   "id": "2d65ec00-f404-46a5-af5b-9c6753ca8452",
   "metadata": {},
   "source": [
    "# Diccionarios:\n"
   ]
  },
  {
   "cell_type": "code",
   "execution_count": null,
   "id": "79d1d1ea-5c11-4d8c-8b1e-7ab5272c8e1e",
   "metadata": {},
   "outputs": [],
   "source": [
    "var persona = [\"nombre\": \"Ana\", \"edad\": \"25\"]\n",
    "print(persona[\"nombre\"]!) // \"Ana\""
   ]
  },
  {
   "cell_type": "markdown",
   "id": "32465518-efb5-41f1-9e8e-9351e67db9cb",
   "metadata": {},
   "source": [
    "# Sets:"
   ]
  },
  {
   "cell_type": "code",
   "execution_count": null,
   "id": "c60ba41f-6e0d-447a-aeff-d967bf88da4c",
   "metadata": {},
   "outputs": [],
   "source": [
    "var colores: Set = [\"Rojo\", \"Verde\", \"Azul\"]"
   ]
  },
  {
   "cell_type": "markdown",
   "id": "99c537fa-8ffd-4184-bc43-65214c218061",
   "metadata": {},
   "source": [
    "# Protocolos y extensiones\n",
    "Se utiliza protocolpara declarar un protocolo.\n",
    "\n"
   ]
  },
  {
   "cell_type": "code",
   "execution_count": null,
   "id": "29a82821-32cb-4696-93b2-f781466e5b00",
   "metadata": {},
   "outputs": [],
   "source": [
    "protocol ExampleProtocol {\n",
    "     var simpleDescription: String { get }\n",
    "     mutating func adjust()\n",
    "}\n"
   ]
  },
  {
   "cell_type": "markdown",
   "id": "b7f32d68-8eaa-4de2-8be0-98c35ac61087",
   "metadata": {},
   "source": [
    "# Manejo de errores\n",
    "Representa errores utilizando cualquier tipo que adopte el Errorprotocolo.\n",
    "\n"
   ]
  },
  {
   "cell_type": "code",
   "execution_count": null,
   "id": "bfd40912-216b-4da5-b801-c7cc6ea7effa",
   "metadata": {},
   "outputs": [],
   "source": [
    "enum PrinterError: Error {\n",
    "    case outOfPaper\n",
    "    case noToner\n",
    "    case onFire\n",
    "}"
   ]
  },
  {
   "cell_type": "markdown",
   "id": "e44dd637-7db3-4754-adda-ae13910c43b7",
   "metadata": {},
   "source": [
    "Se utiliza __throw__ para generar un error y __throws__ para marcar una función que puede generar un error.\n",
    "Si genera un error en una función, la función retorna inmediatamente y el código que llamó a la función maneja\n",
    "el error.\n",
    "\n"
   ]
  },
  {
   "cell_type": "code",
   "execution_count": null,
   "id": "7c7d412f-66c4-4111-b743-a9a3098dc290",
   "metadata": {},
   "outputs": [],
   "source": [
    "func send(job: Int, toPrinter printerName: String) throws -> String {\n",
    "    if printerName == \"Never Has Toner\" {\n",
    "        throw PrinterError.noToner\n",
    "    }\n",
    "    return \"Job sent\"\n",
    "}"
   ]
  },
  {
   "cell_type": "markdown",
   "id": "21745b45-5c2c-408e-a3bc-6540bf5c6ab5",
   "metadata": {},
   "source": [
    "# Extensiones\n",
    "Las extensiones permiten agregar funcionalidad a tipos existentes.\n"
   ]
  },
  {
   "cell_type": "code",
   "execution_count": null,
   "id": "7414ca69-3e23-4579-9fc1-c3a1ff2d2c25",
   "metadata": {},
   "outputs": [],
   "source": [
    "extension Int {\n",
    "    func esPar() -> Bool {\n",
    "        return self % 2 == 0\n",
    "    }\n",
    "}\n",
    "\n",
    "let numero = 4\n",
    "print(numero.esPar()) // true"
   ]
  },
  {
   "cell_type": "markdown",
   "id": "668492fe-62ed-49b8-af2d-3c2af5398ffd",
   "metadata": {},
   "source": [
    "# SwiftUI (Interfaces de Usuario)\n",
    "SwiftUI es un framework para construir interfaces de usuario de manera declarativa.\n",
    "\n"
   ]
  },
  {
   "cell_type": "code",
   "execution_count": null,
   "id": "b74f29cb-60d2-4491-b984-cffa0489703c",
   "metadata": {},
   "outputs": [],
   "source": [
    "import SwiftUI\n",
    "\n",
    "struct ContentView: View {\n",
    "    var body: some View {\n",
    "        Text(\"Hola, SwiftUI!\")\n",
    "            .padding()\n",
    "    }\n",
    "}"
   ]
  },
  {
   "cell_type": "code",
   "execution_count": null,
   "id": "7d4e9a95-1b6e-47cd-bfbe-79561c7e70c0",
   "metadata": {},
   "outputs": [],
   "source": []
  }
 ],
 "metadata": {
  "kernelspec": {
   "display_name": "Python 3 (ipykernel)",
   "language": "python",
   "name": "python3"
  },
  "language_info": {
   "codemirror_mode": {
    "name": "ipython",
    "version": 3
   },
   "file_extension": ".py",
   "mimetype": "text/x-python",
   "name": "python",
   "nbconvert_exporter": "python",
   "pygments_lexer": "ipython3",
   "version": "3.13.2"
  }
 },
 "nbformat": 4,
 "nbformat_minor": 5
}
