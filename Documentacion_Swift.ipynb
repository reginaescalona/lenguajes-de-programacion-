{
 "cells": [
  {
   "cell_type": "markdown",
   "id": "4a0578e5-0a78-43ac-8bd8-a58a91a3ceaf",
   "metadata": {},
   "source": [
    "# Documentacion Swift (Lenguaje de programacion para IOS)\n",
    "Swift es una forma fantástica de escribir software para teléfonos, tabletas, computadoras de escritorio, servidores o cualquier otro dispositivo que ejecute código. Es un lenguaje de programación seguro y rápido que combina lo mejor del lenguaje moderno con la sabiduría de una comunidad diversa de código abierto.\n",
    "\n"
   ]
  },
  {
   "cell_type": "code",
   "execution_count": null,
   "id": "2bf67de8-ebbd-4b49-971a-f9d5f6fac04b",
   "metadata": {},
   "outputs": [],
   "source": []
  }
 ],
 "metadata": {
  "kernelspec": {
   "display_name": "Python 3 (ipykernel)",
   "language": "python",
   "name": "python3"
  },
  "language_info": {
   "codemirror_mode": {
    "name": "ipython",
    "version": 3
   },
   "file_extension": ".py",
   "mimetype": "text/x-python",
   "name": "python",
   "nbconvert_exporter": "python",
   "pygments_lexer": "ipython3",
   "version": "3.13.2"
  }
 },
 "nbformat": 4,
 "nbformat_minor": 5
}
