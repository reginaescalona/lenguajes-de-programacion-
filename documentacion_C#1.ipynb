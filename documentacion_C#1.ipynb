{
 "cells": [
  {
   "cell_type": "markdown",
   "id": "c6ec5691-8d39-40fd-bbcd-47f82ff6d8c2",
   "metadata": {},
   "source": [
    "\n",
    "# DOCUMENTACION C#\n",
    "C# es un lenguaje de programación moderno y orientado a objetos desarrollado por Microsoft en el año 2000. Su nombre, «C Sharp», refleja su relación con el lenguaje C++, ya que C# hereda muchas de las características de C++ pero con mejoras significativas y enfoque en la programación más segura y eficiente. Es un lenguaje de alto nivel que se enfoca en la legibilidad del código y la facilidad de uso, lo que lo hace ideal tanto para principiantes como para programadores experimentados.\n",
    "\n",
    "# ¿Por qué C#?\n",
    "C# es un lenguaje de programaciónmoderno, innovador, de código abierto, multiplataforma orientado a objetos y uno de los 5 principales lenguajes de programación de GitHub. si tienes xperiencia con JavaScript, Java o C++, C# te resultará familiar al instante y disfrutará de sus características en constante evolución\n",
    "# ¿Para que se usa?\n",
    " # 1. Desarrollo de aplicaciones de escritorio\n",
    "C# es ampliamente utilizado para crear aplicaciones de escritorio en Windows, gracias a su integración con Windows Forms y Windows Presentation Foundation (WPF).\n",
    "# 2. Desarrollo de aplicaciones web\n",
    "C# se utiliza en el desarrollo de aplicaciones web a través de ASP.NET Core, un framework moderno y multiplataforma para construir aplicaciones web y APIs.\n",
    "# 3. Desarrollo de juegos\n",
    "C# es uno de los lenguajes principales para el desarrollo de videojuegos, especialmente con el motor Unity, uno de los motores de juegos más populares del mundo.\n",
    "\n",
    "# 4. Desarrollo de aplicaciones móviles\n",
    "C# se utiliza para desarrollar aplicaciones móviles multiplataforma con Xamarin, un framework que permite crear aplicaciones nativas para iOS, Android y Windows usando una base de código compartida.\n",
    "\n",
    "\n"
   ]
  },
  {
   "cell_type": "markdown",
   "id": "0100538d-5894-4349-9ecd-57f4a45f2e35",
   "metadata": {},
   "source": [
    "#  Tipos de datos básicos\n",
    "C# es un lenguaje fuertemente tipado, lo que significa que todas las variables deben tener un tipo de dato definido. Algunos tipos de datos básicos incluyen:"
   ]
  },
  {
   "cell_type": "code",
   "execution_count": null,
   "id": "b50b82dd-f1d1-4510-a772-cb4f39b529b7",
   "metadata": {},
   "outputs": [],
   "source": [
    "\n",
    "int\tEntero (32 bits)\tint edad = 25;\n",
    "double\tNúmero de punto flotante (64 bits)\tdouble precio = 19.99;\n",
    "float\tNúmero de punto flotante (32 bits)\tfloat altura = 1.75f;\n",
    "bool\tValor booleano (verdadero/falso)\tbool esValido = true;"
   ]
  },
  {
   "cell_type": "markdown",
   "id": "368fee09-7c15-4502-8303-f5383ccb015b",
   "metadata": {},
   "source": [
    "# ¿Como se declara una variable?\n",
    " C#, las variables se declaran especificando el tipo de dato que almacenarán, seguido del nombre de la variable. Opcionalmente, puedes asignar un valor inicial a la variable en el momento de la declaración \n",
    "\n",
    " # sintaxis basica\n",
    " tipoDato nombreVariable;\n",
    " O, si deseas asignar un valor inicial:\n",
    " tipoDato nombreVariable = valor;\n"
   ]
  },
  {
   "cell_type": "code",
   "execution_count": null,
   "id": "28566488-bc09-4c7f-9b06-23b310cb6e92",
   "metadata": {},
   "outputs": [],
   "source": [
    "int edad; // Declara una variable de tipo entero llamada \"edad\"\n",
    "string nombre; // Declara una variable de tipo string llamada \"nombre\"\n",
    "double salario; // Declara una variable de tipo double llamada \"salario\"\n",
    "int edad = 25; // Declara una variable de tipo entero llamada edad y le asigna el valor 25\n",
    "string nombre = \"Juan\"; // Declara una variable de tipo string llamada nombre y le asigna el valor \"Juan\"\n",
    "double salario = 1500.50; // Declara una variable de tipo double llamada \"salario\" y le asigna el valor 1500.50   "
   ]
  },
  {
   "cell_type": "markdown",
   "id": "3d3c43be-03eb-4242-a39f-9fdf537cafae",
   "metadata": {},
   "source": [
    "# estructuras de control en C#\n",
    "En C#, las estructuras de control son herramientas que permiten controlar \n",
    "el flujo de ejecución de un programa. Estas estructuras se utilizan para tomar decisiones,\n",
    "repetir bloques de código y manejar excepciones.\n",
    "\n",
    "# Estructuras condicionales\n",
    "Permiten ejecutar bloques de código dependiendo\n",
    " de si se cumple o no una condición.\n",
    "\n",
    "- if: Ejecuta un bloque de código si una condición es verdadera."
   ]
  },
  {
   "cell_type": "code",
   "execution_count": null,
   "id": "90c2eb47-fc0f-4a24-82a6-fdac5586bbbb",
   "metadata": {},
   "outputs": [],
   "source": [
    "int edad = 18;\n",
    "\n",
    "if (edad >= 18)\n",
    "{\n",
    "    Console.WriteLine(\"Eres mayor de edad.\");\n",
    "}"
   ]
  },
  {
   "cell_type": "markdown",
   "id": "a56b0e81-b704-4751-b9dc-b8f643586e50",
   "metadata": {},
   "source": [
    "- if-else: Ejecuta un bloque de código si la condición es verdadera y otro bloque si es falsa."
   ]
  },
  {
   "cell_type": "code",
   "execution_count": null,
   "id": "fae07acc-19fb-4570-a37e-3793c34ca00f",
   "metadata": {},
   "outputs": [],
   "source": [
    "int edad = 16;\n",
    "\n",
    "if (edad >= 18)\n",
    "{\n",
    "    Console.WriteLine(\"Eres mayor de edad.\");\n",
    "}\n",
    "else\n",
    "{\n",
    "    Console.WriteLine(\"Eres menor de edad.\");\n",
    "}"
   ]
  },
  {
   "cell_type": "markdown",
   "id": "c8c02bca-2550-4724-8a3a-b52867480880",
   "metadata": {},
   "source": [
    "- if-else if-else: Permite evaluar múltiples condiciones."
   ]
  },
  {
   "cell_type": "code",
   "execution_count": null,
   "id": "2558f6da-9c11-4d91-ab6e-9b9f79c1398f",
   "metadata": {},
   "outputs": [],
   "source": [
    "int nota = 75;\n",
    "\n",
    "if (nota >= 90)\n",
    "{\n",
    "    Console.WriteLine(\"Excelente.\");\n",
    "}\n",
    "else if (nota >= 70)\n",
    "{\n",
    "    Console.WriteLine(\"Bueno.\");\n",
    "}\n",
    "else\n",
    "{\n",
    "    Console.WriteLine(\"Necesitas mejorar.\");\n",
    "}"
   ]
  },
  {
   "cell_type": "markdown",
   "id": "2122fccc-44ee-4596-b531-05942c3b62da",
   "metadata": {},
   "source": [
    "- switch: Evalúa una expresión y ejecuta el bloque de código correspondiente al caso que coincida"
   ]
  },
  {
   "cell_type": "code",
   "execution_count": null,
   "id": "275f774a-11ba-458f-845c-0291ba605e83",
   "metadata": {},
   "outputs": [],
   "source": [
    "string dia = \"Lunes\";\n",
    "\n",
    "switch (dia)\n",
    "{\n",
    "    case \"Lunes\":\n",
    "        Console.WriteLine(\"Hoy es Lunes.\");\n",
    "        break;\n",
    "    case \"Martes\":\n",
    "        Console.WriteLine(\"Hoy es Martes.\");\n",
    "        break;\n",
    "    default:\n",
    "        Console.WriteLine(\"Día no reconocido.\");\n",
    "        break;\n",
    "}"
   ]
  },
  {
   "cell_type": "markdown",
   "id": "234cc97b-af34-42d1-88ed-416b7a9c00cf",
   "metadata": {},
   "source": [
    "# Estructuras de repetición (bucles)\n",
    "Permiten ejecutar un bloque de código varias veces.\n",
    "\n",
    "- for: Repite un bloque de código un número específico de veces."
   ]
  },
  {
   "cell_type": "code",
   "execution_count": null,
   "id": "72be73df-af34-4b6a-a022-f80e3097a0f4",
   "metadata": {},
   "outputs": [],
   "source": [
    "for (int i = 0; i < 5; i++)\n",
    "{\n",
    "    Console.WriteLine(\"Iteración: \" + i);\n",
    "}"
   ]
  },
  {
   "cell_type": "markdown",
   "id": "d8df72dd-87a2-48e4-babb-a78b6ada9957",
   "metadata": {},
   "source": [
    "- while: Repite un bloque de código mientras una condición sea verdadera."
   ]
  },
  {
   "cell_type": "code",
   "execution_count": null,
   "id": "5dd181cb-d46b-42ee-a5db-7af77367226b",
   "metadata": {},
   "outputs": [],
   "source": [
    "int contador = 0;\n",
    "\n",
    "while (contador < 5)\n",
    "{\n",
    "    Console.WriteLine(\"Contador: \" + contador);\n",
    "    contador++;\n",
    "}"
   ]
  },
  {
   "cell_type": "markdown",
   "id": "5dd925ba-efe3-4a33-99a1-29c312294423",
   "metadata": {},
   "source": [
    "- do-while: Similar al while, pero garantiza que el bloque de código se ejecute al menos una vez."
   ]
  },
  {
   "cell_type": "code",
   "execution_count": null,
   "id": "44e210d5-bc61-4dfc-b5de-744c0f5cd37d",
   "metadata": {},
   "outputs": [],
   "source": [
    "int contador = 0;\n",
    "\n",
    "do\n",
    "{\n",
    "    Console.WriteLine(\"Contador: \" + contador);\n",
    "    contador++;\n",
    "} while (contador < 5);"
   ]
  },
  {
   "cell_type": "markdown",
   "id": "8bcd181d-d87d-4e1c-88b0-e6816937c422",
   "metadata": {},
   "source": [
    "- foreach: Recorre todos los elementos de una colección (como un array o una lista)."
   ]
  },
  {
   "cell_type": "code",
   "execution_count": null,
   "id": "356c96bb-9549-4c2e-b98a-72a8cd018cf0",
   "metadata": {},
   "outputs": [],
   "source": [
    "string[] nombres = { \"Ana\", \"Juan\", \"Carlos\" };\n",
    "\n",
    "foreach (string nombre in nombres)\n",
    "{\n",
    "    Console.WriteLine(\"Nombre: \" + nombre);\n",
    "}"
   ]
  },
  {
   "cell_type": "markdown",
   "id": "538c8328-5241-4bfb-b756-f04c3e7c3a6e",
   "metadata": {},
   "source": [
    "# Estructuras de control de salto\n",
    "Permiten alterar el flujo normal de ejecución.\n",
    "\n",
    "- break: Termina la ejecución de un bucle o una estructura switch."
   ]
  },
  {
   "cell_type": "code",
   "execution_count": null,
   "id": "74368858-e0c6-478d-98f0-ef811f62e0ca",
   "metadata": {},
   "outputs": [],
   "source": [
    "for (int i = 0; i < 10; i++)\n",
    "{\n",
    "    if (i == 5)\n",
    "    {\n",
    "        break; // Sale del bucle cuando i es 5\n",
    "    }\n",
    "    Console.WriteLine(\"Iteración: \" + i);\n",
    "}"
   ]
  },
  {
   "cell_type": "markdown",
   "id": "5c30db27-f466-4e12-a2e6-3ce82f4e24d4",
   "metadata": {},
   "source": [
    "- continue: Salta a la siguiente iteración de un bucle, omitiendo el resto del código en la iteración actual."
   ]
  },
  {
   "cell_type": "code",
   "execution_count": null,
   "id": "7468021f-f5fb-4da7-a257-04daba2e73ed",
   "metadata": {},
   "outputs": [],
   "source": [
    "for (int i = 0; i < 10; i++)\n",
    "{\n",
    "    if (i % 2 == 0)\n",
    "    {\n",
    "        continue; // Salta las iteraciones pares\n",
    "    }\n",
    "    Console.WriteLine(\"Iteración: \" + i);\n",
    "}"
   ]
  },
  {
   "cell_type": "markdown",
   "id": "fe0d3498-672b-45b7-8b9d-96cd64b7ab07",
   "metadata": {},
   "source": [
    "- return: Termina la ejecución de un método y devuelve un valor (si el método no es void)."
   ]
  },
  {
   "cell_type": "code",
   "execution_count": null,
   "id": "e65ad03b-eb8f-40eb-a498-9f0c16cbeabc",
   "metadata": {},
   "outputs": [],
   "source": [
    "int Sumar(int a, int b)\n",
    "{\n",
    "    return a + b;\n",
    "}\n",
    "\n",
    "int resultado = Sumar(3, 5);\n",
    "Console.WriteLine(\"Resultado: \" + resultado);"
   ]
  },
  {
   "cell_type": "markdown",
   "id": "f1c6a239-4935-42e0-a494-f8f4cd0f0c5c",
   "metadata": {},
   "source": [
    "# modulos y bibliotecas\n",
    "En C#, los módulos y bibliotecas son componentes esenciales para organizar y reutilizar código. \n",
    "Los módulos se refieren a la organización del código en namespaces y clases, \n",
    "mientras que las bibliotecas son colecciones de código compilado que se pueden compartir y reutilizar en diferentes proyectos.\n",
    "\n",
    "# Módulos en C#\n",
    "En C#, el concepto de \"módulo\" no existe de la misma manera que en otros lenguajes como Python. Sin embargo, puedes organizar tu código en namespaces (espacios de nombres), clases y métodos, que actúan como unidades modulares.\n",
    "\n",
    "- Namespaces: Agrupan clases, interfaces, estructuras y otros tipos relacionados.\n",
    "  \n",
    "\n"
   ]
  },
  {
   "cell_type": "code",
   "execution_count": null,
   "id": "bb3a973f-15bc-4566-836e-90e84f5cc2d0",
   "metadata": {},
   "outputs": [],
   "source": [
    "namespace MiModulo {\n",
    "    public class MiClase {\n",
    "        public void MiMetodo() {\n",
    "            Console.WriteLine(\"Hola desde MiModulo!\");\n",
    "        }\n",
    "    }\n",
    "}"
   ]
  },
  {
   "cell_type": "markdown",
   "id": "e216d30a-f8fc-4964-9b1a-71c8fd31ad65",
   "metadata": {},
   "source": [
    "- Clases: Son la unidad básica de encapsulación en C#."
   ]
  },
  {
   "cell_type": "code",
   "execution_count": null,
   "id": "7eb6d917-3eb2-466d-92ad-041da8839349",
   "metadata": {},
   "outputs": [],
   "source": [
    "public class Calculadora {\n",
    "    public int Sumar(int a, int b) {\n",
    "        return a + b;\n",
    "    }\n",
    "}"
   ]
  },
  {
   "cell_type": "markdown",
   "id": "f501fc7e-aee4-4d41-96d6-0a02d44c64ab",
   "metadata": {},
   "source": [
    "# Bibliotecas en C#\n",
    "En C#, las bibliotecas se implementan como ensamblados (archivos .dll o .exe). \n",
    "Estas bibliotecas contienen código compilado que puede ser reutilizado en otros proyectos.\n",
    "\n",
    "# Crear una biblioteca en C#\n",
    "# Crear un proyecto de biblioteca de clases:\n",
    "\n",
    " - En Visual Studio, selecciona \"Crear nuevo proyecto\".\n",
    "\n",
    " - Elige \"Biblioteca de clases\" (Class Library).\n",
    "\n",
    " - Escribe tu código en la clase generada."
   ]
  },
  {
   "cell_type": "code",
   "execution_count": null,
   "id": "e943ce9e-6dc5-49d5-87da-5f1c35732d47",
   "metadata": {},
   "outputs": [],
   "source": [
    "namespace MiBiblioteca {\n",
    "    public class Operaciones {\n",
    "        public int Multiplicar(int a, int b) {\n",
    "            return a * b;\n",
    "        }\n",
    "    }\n",
    "}"
   ]
  }
 ],
 "metadata": {
  "kernelspec": {
   "display_name": "Python 3 (ipykernel)",
   "language": "python",
   "name": "python3"
  },
  "language_info": {
   "codemirror_mode": {
    "name": "ipython",
    "version": 3
   },
   "file_extension": ".py",
   "mimetype": "text/x-python",
   "name": "python",
   "nbconvert_exporter": "python",
   "pygments_lexer": "ipython3",
   "version": "3.12.3"
  }
 },
 "nbformat": 4,
 "nbformat_minor": 5
}
